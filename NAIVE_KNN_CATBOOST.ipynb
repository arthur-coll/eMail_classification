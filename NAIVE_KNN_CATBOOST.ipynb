{
 "cells": [
  {
   "cell_type": "markdown",
   "metadata": {},
   "source": [
    "**NAIVE BAYES / KNN / CAT BOOST**"
   ]
  },
  {
   "cell_type": "code",
   "execution_count": 128,
   "metadata": {
    "id": "nHz3JgYFfiVX"
   },
   "outputs": [],
   "source": [
    "#Libraries importation\n",
    "import pandas as pd\n",
    "import seaborn as sn\n",
    "import numpy as np\n",
    "import matplotlib.pyplot as plt"
   ]
  },
  {
   "cell_type": "code",
   "execution_count": 129,
   "metadata": {
    "scrolled": true
   },
   "outputs": [
    {
     "data": {
      "text/html": [
       "<div>\n",
       "<style scoped>\n",
       "    .dataframe tbody tr th:only-of-type {\n",
       "        vertical-align: middle;\n",
       "    }\n",
       "\n",
       "    .dataframe tbody tr th {\n",
       "        vertical-align: top;\n",
       "    }\n",
       "\n",
       "    .dataframe thead th {\n",
       "        text-align: right;\n",
       "    }\n",
       "</style>\n",
       "<table border=\"1\" class=\"dataframe\">\n",
       "  <thead>\n",
       "    <tr style=\"text-align: right;\">\n",
       "      <th></th>\n",
       "      <th>date</th>\n",
       "      <th>org</th>\n",
       "      <th>tld</th>\n",
       "      <th>ccs</th>\n",
       "      <th>bcced</th>\n",
       "      <th>mail_type</th>\n",
       "      <th>images</th>\n",
       "      <th>urls</th>\n",
       "      <th>salutations</th>\n",
       "      <th>designation</th>\n",
       "      <th>chars_in_subject</th>\n",
       "      <th>chars_in_body</th>\n",
       "      <th>label</th>\n",
       "    </tr>\n",
       "  </thead>\n",
       "  <tbody>\n",
       "    <tr>\n",
       "      <th>0</th>\n",
       "      <td>Mon, 6 Nov 2017 11:13:45 +0100</td>\n",
       "      <td>reply</td>\n",
       "      <td>ebay.in</td>\n",
       "      <td>0</td>\n",
       "      <td>0</td>\n",
       "      <td>multipart/alternative</td>\n",
       "      <td>35</td>\n",
       "      <td>120</td>\n",
       "      <td>0</td>\n",
       "      <td>0</td>\n",
       "      <td>49.0</td>\n",
       "      <td>80027</td>\n",
       "      <td>2</td>\n",
       "    </tr>\n",
       "    <tr>\n",
       "      <th>1</th>\n",
       "      <td>Wed, 14 Feb 2018 11:00:16 -0000</td>\n",
       "      <td>edm</td>\n",
       "      <td>efinmail.com</td>\n",
       "      <td>0</td>\n",
       "      <td>0</td>\n",
       "      <td>multipart/alternative</td>\n",
       "      <td>1</td>\n",
       "      <td>7</td>\n",
       "      <td>0</td>\n",
       "      <td>0</td>\n",
       "      <td>107.0</td>\n",
       "      <td>2961</td>\n",
       "      <td>1</td>\n",
       "    </tr>\n",
       "  </tbody>\n",
       "</table>\n",
       "</div>"
      ],
      "text/plain": [
       "                              date    org           tld  ccs  bcced  \\\n",
       "0   Mon, 6 Nov 2017 11:13:45 +0100  reply       ebay.in    0      0   \n",
       "1  Wed, 14 Feb 2018 11:00:16 -0000    edm  efinmail.com    0      0   \n",
       "\n",
       "               mail_type  images  urls  salutations  designation  \\\n",
       "0  multipart/alternative      35   120            0            0   \n",
       "1  multipart/alternative       1     7            0            0   \n",
       "\n",
       "   chars_in_subject  chars_in_body  label  \n",
       "0              49.0          80027      2  \n",
       "1             107.0           2961      1  "
      ]
     },
     "execution_count": 129,
     "metadata": {},
     "output_type": "execute_result"
    }
   ],
   "source": [
    "#Import df\n",
    "data=pd.read_csv(\"train.csv\")\n",
    "#Drop first column as \"ID\"\n",
    "data.drop('Unnamed: 0', axis=1, inplace=True)\n",
    "\n",
    "data.head(2)"
   ]
  },
  {
   "cell_type": "markdown",
   "metadata": {},
   "source": [
    "**Data Preprocessing**"
   ]
  },
  {
   "cell_type": "code",
   "execution_count": 130,
   "metadata": {},
   "outputs": [
    {
     "data": {
      "text/plain": [
       "(76639, 13)"
      ]
     },
     "execution_count": 130,
     "metadata": {},
     "output_type": "execute_result"
    }
   ],
   "source": [
    "#Remove missing values (easier)\n",
    "data= data.dropna(axis=0)\n",
    "\n",
    "data.shape"
   ]
  },
  {
   "cell_type": "code",
   "execution_count": 131,
   "metadata": {},
   "outputs": [
    {
     "data": {
      "text/plain": [
       "(76625, 13)"
      ]
     },
     "execution_count": 131,
     "metadata": {},
     "output_type": "execute_result"
    }
   ],
   "source": [
    "#Dealing with outliers\n",
    "\n",
    "data= data.drop(data[data.urls > 1000].index)\n",
    "data= data.drop(data[data.images > 1000].index)\n",
    "\n",
    "data.shape"
   ]
  },
  {
   "cell_type": "code",
   "execution_count": 132,
   "metadata": {},
   "outputs": [],
   "source": [
    "#Reducing the size of categorical variables\n",
    "\n",
    "#We arbitraly choose to keep only the 50th more used org value \n",
    "top50 = data[\"org\"].value_counts()[:50]\n",
    "data[\"org\"]=data[\"org\"].apply(lambda x: \"other\" if not x  in top50 else x)\n",
    "\n",
    "#We arbitraly choose to keep only the 30th more used tldvalue\n",
    "top50 = data[\"tld\"].value_counts()[:50]\n",
    "data[\"tld\"]=data[\"tld\"].apply(lambda x: \"other\" if not x  in top50 else x)"
   ]
  },
  {
   "cell_type": "markdown",
   "metadata": {},
   "source": [
    "**Modeling**\n",
    "\n",
    "Naive Bayes (just numerical features)"
   ]
  },
  {
   "cell_type": "code",
   "execution_count": 133,
   "metadata": {
    "id": "lt6vXrmeogGy"
   },
   "outputs": [],
   "source": [
    "from sklearn.model_selection import train_test_split\n",
    "\n",
    "num_features = data.drop(['date','label', 'tld', 'org','mail_type'], axis=1)\n",
    "#Split into train,test df\n",
    "X_train, X_test, y_train, y_test = train_test_split(num_features, data[\"label\"], test_size=0.1)"
   ]
  },
  {
   "cell_type": "code",
   "execution_count": 134,
   "metadata": {
    "id": "RZymxIr5px3F"
   },
   "outputs": [],
   "source": [
    "from sklearn.naive_bayes import MultinomialNB\n",
    "\n",
    "#Train Naive_Bayes model\n",
    "classifier= MultinomialNB().fit(X_train, y_train)"
   ]
  },
  {
   "cell_type": "code",
   "execution_count": 135,
   "metadata": {
    "colab": {
     "base_uri": "https://localhost:8080/"
    },
    "id": "FwYEP3TAqXKX",
    "outputId": "70854d47-7e0f-42a4-b6e3-469f12a56d7b"
   },
   "outputs": [
    {
     "name": "stdout",
     "output_type": "stream",
     "text": [
      "              precision    recall  f1-score   support\n",
      "\n",
      "           0       0.25      0.25      0.25     14896\n",
      "           1       0.75      0.02      0.03     31834\n",
      "           2       0.26      0.27      0.27      7678\n",
      "           3       0.38      0.15      0.21      9506\n",
      "           4       0.01      0.06      0.01       283\n",
      "           5       0.02      0.30      0.04        91\n",
      "           6       0.00      0.52      0.00       135\n",
      "           7       0.21      0.30      0.25      4539\n",
      "\n",
      "    accuracy                           0.13     68962\n",
      "   macro avg       0.23      0.23      0.13     68962\n",
      "weighted avg       0.49      0.13      0.14     68962\n",
      " \n",
      "\n",
      "Confusion Matrix:\n",
      "  [[ 3728    52  1126   145   662   313  8045   825]\n",
      " [ 7214   511  3361  2141  1194   569 14050  2794]\n",
      " [ 1309    10  2080    42   323    65  2483  1366]\n",
      " [ 2217   102    35  1406   216   219  5212    99]\n",
      " [   25     0    49     0    18     8   124    59]\n",
      " [   17     7    12    12     1    27    14     1]\n",
      " [   35     0     2     0     5     0    70    23]\n",
      " [  462     0  1273     0   552     5   887  1360]] \n",
      "\n",
      "Accuracy :  0.1334068037469911\n"
     ]
    }
   ],
   "source": [
    "from sklearn.metrics import classification_report, confusion_matrix, accuracy_score\n",
    "\n",
    "#Result on train data\n",
    "pred = classifier.predict(X_train)\n",
    "print(classification_report(y_train,pred),\"\\n\")\n",
    "print(\"Confusion Matrix:\\n \",confusion_matrix(y_train,pred),\"\\n\")\n",
    "print(\"Accuracy : \",accuracy_score(y_train,pred))\n"
   ]
  },
  {
   "cell_type": "code",
   "execution_count": 136,
   "metadata": {
    "colab": {
     "base_uri": "https://localhost:8080/"
    },
    "id": "uxBdvY-1pZRe",
    "outputId": "d5c51b92-6940-43e2-9551-268fe5836974"
   },
   "outputs": [
    {
     "name": "stdout",
     "output_type": "stream",
     "text": [
      "              precision    recall  f1-score   support\n",
      "\n",
      "           0       0.21      0.23      0.22      1587\n",
      "           1       0.71      0.01      0.02      3601\n",
      "           2       0.28      0.30      0.29       872\n",
      "           3       0.39      0.15      0.22      1052\n",
      "           4       0.01      0.08      0.01        26\n",
      "           5       0.02      0.50      0.04         6\n",
      "           6       0.00      0.62      0.01        16\n",
      "           7       0.21      0.30      0.25       503\n",
      "\n",
      "    accuracy                           0.13      7663\n",
      "   macro avg       0.23      0.27      0.13      7663\n",
      "weighted avg       0.48      0.13      0.13      7663\n",
      " \n",
      "\n",
      "Confusion Matrix [[ 366    5  121    6   80   25  889   95]\n",
      " [ 882   36  398  234  126   57 1562  306]\n",
      " [ 135    2  260    6   36   13  274  146]\n",
      " [ 262    8    4  159   18   32  556   13]\n",
      " [   3    0    2    0    2    1   11    7]\n",
      " [   0    0    1    0    0    3    2    0]\n",
      " [   2    0    1    0    0    0   10    3]\n",
      " [  58    0  130    0   50    2  112  151]] \n",
      "\n",
      "Accuracy 0.12880073078428814\n"
     ]
    }
   ],
   "source": [
    "#Result on test data\n",
    "pred = classifier.predict(X_test)\n",
    "print(classification_report(y_test,pred),\"\\n\")\n",
    "print(\"Confusion Matrix\",confusion_matrix(y_test,pred),\"\\n\")\n",
    "print(\"Accuracy\",accuracy_score(y_test,pred))"
   ]
  },
  {
   "cell_type": "markdown",
   "metadata": {},
   "source": [
    "**Modeling**\n",
    "\n",
    "Naive Bayes (with dummy variables)"
   ]
  },
  {
   "cell_type": "code",
   "execution_count": 137,
   "metadata": {},
   "outputs": [],
   "source": [
    "#Create Dummy Variables\n",
    "\n",
    "all_type=pd.get_dummies(data[\"mail_type\"])\n",
    "\n",
    "all_type[\"text/html\"] = all_type[\"text/html\"]+all_type[\"text/html \"]+all_type[\"Text/Html\"]\n",
    "all_type=all_type.drop([\"text/html \",\"Text/Html\"], axis=1)\n",
    "\n",
    "all_type[\"multipart/mixed\"] = all_type[\"multipart/mixed\"]+all_type[\"Multipart/Mixed\"]\n",
    "all_type=all_type.drop(\"Multipart/Mixed\", axis=1)\n",
    "\n",
    "all_org=pd.get_dummies(data[\"org\"])\n",
    "all_tld=pd.get_dummies(data[\"tld\"])\n",
    "\n",
    "#Merge data\n",
    "\n",
    "input=data.drop(['date','org','mail_type','tld','label'], axis=1)\n",
    "input=pd.concat([input,all_type,all_org,all_tld],axis=1)\n",
    "\n",
    "target=data[\"label\"]"
   ]
  },
  {
   "cell_type": "code",
   "execution_count": 138,
   "metadata": {
    "id": "lt6vXrmeogGy"
   },
   "outputs": [],
   "source": [
    "from sklearn.model_selection import train_test_split\n",
    "\n",
    "#Split into train,test df\n",
    "X_train, X_test, y_train, y_test = train_test_split(input, target, test_size=0.1)"
   ]
  },
  {
   "cell_type": "code",
   "execution_count": 139,
   "metadata": {
    "id": "RZymxIr5px3F"
   },
   "outputs": [],
   "source": [
    "from sklearn.naive_bayes import MultinomialNB\n",
    "\n",
    "#Train Naive_Bayes model\n",
    "classifier= MultinomialNB().fit(X_train, y_train)"
   ]
  },
  {
   "cell_type": "code",
   "execution_count": 140,
   "metadata": {
    "colab": {
     "base_uri": "https://localhost:8080/"
    },
    "id": "FwYEP3TAqXKX",
    "outputId": "70854d47-7e0f-42a4-b6e3-469f12a56d7b"
   },
   "outputs": [
    {
     "name": "stdout",
     "output_type": "stream",
     "text": [
      "              precision    recall  f1-score   support\n",
      "\n",
      "           0       0.28      0.27      0.28     14841\n",
      "           1       0.71      0.02      0.03     31843\n",
      "           2       0.34      0.40      0.37      7687\n",
      "           3       0.39      0.15      0.21      9521\n",
      "           4       0.01      0.12      0.02       277\n",
      "           5       0.02      0.38      0.05        87\n",
      "           6       0.00      0.54      0.00       135\n",
      "           7       0.45      0.55      0.50      4571\n",
      "\n",
      "    accuracy                           0.17     68962\n",
      "   macro avg       0.28      0.30      0.18     68962\n",
      "weighted avg       0.51      0.17      0.18     68962\n",
      " \n",
      "\n",
      "Confusion Matrix:\n",
      "  [[ 4005    79  1310   110   303   338  8302   394]\n",
      " [ 6787   501  3758  2096  2294   651 13476  2280]\n",
      " [ 1184     9  3099    45   236    89  2592   433]\n",
      " [ 1922   110    29  1417   977   237  4816    13]\n",
      " [   23     0    92     0    34     9   119     0]\n",
      " [    7     6    15     9     0    33    17     0]\n",
      " [   31     0    28     0     1     1    73     1]\n",
      " [  317     0   746     0    77     8   890  2533]] \n",
      "\n",
      "Accuracy :  0.16958614889359358\n"
     ]
    }
   ],
   "source": [
    "from sklearn.metrics import classification_report, confusion_matrix, accuracy_score\n",
    "\n",
    "#Result on train data\n",
    "pred = classifier.predict(X_train)\n",
    "print(classification_report(y_train,pred),\"\\n\")\n",
    "print(\"Confusion Matrix:\\n \",confusion_matrix(y_train,pred),\"\\n\")\n",
    "print(\"Accuracy : \",accuracy_score(y_train,pred))\n"
   ]
  },
  {
   "cell_type": "code",
   "execution_count": 141,
   "metadata": {
    "colab": {
     "base_uri": "https://localhost:8080/"
    },
    "id": "uxBdvY-1pZRe",
    "outputId": "d5c51b92-6940-43e2-9551-268fe5836974"
   },
   "outputs": [
    {
     "name": "stdout",
     "output_type": "stream",
     "text": [
      "              precision    recall  f1-score   support\n",
      "\n",
      "           0       0.28      0.27      0.28      1642\n",
      "           1       0.73      0.02      0.03      3592\n",
      "           2       0.36      0.40      0.38       863\n",
      "           3       0.34      0.15      0.20      1037\n",
      "           4       0.01      0.16      0.02        32\n",
      "           5       0.02      0.30      0.04        10\n",
      "           6       0.00      0.56      0.01        16\n",
      "           7       0.45      0.59      0.51       471\n",
      "\n",
      "    accuracy                           0.17      7663\n",
      "   macro avg       0.27      0.31      0.18      7663\n",
      "weighted avg       0.52      0.17      0.18      7663\n",
      " \n",
      "\n",
      "Confusion Matrix [[ 448    8  130   13   41   31  919   52]\n",
      " [ 744   56  399  274  287   77 1519  236]\n",
      " [ 127    0  345    4   33    9  290   55]\n",
      " [ 220   12    2  152  105   36  508    2]\n",
      " [   2    0   11    0    5    0   14    0]\n",
      " [   1    1    2    3    0    3    0    0]\n",
      " [   2    0    4    0    1    0    9    0]\n",
      " [  28    0   71    0    7    0   85  280]] \n",
      "\n",
      "Accuracy 0.1693853582147984\n"
     ]
    }
   ],
   "source": [
    "#Result on test data\n",
    "pred = classifier.predict(X_test)\n",
    "print(classification_report(y_test,pred),\"\\n\")\n",
    "print(\"Confusion Matrix\",confusion_matrix(y_test,pred),\"\\n\")\n",
    "print(\"Accuracy\",accuracy_score(y_test,pred))"
   ]
  },
  {
   "cell_type": "markdown",
   "metadata": {},
   "source": [
    "**KNN (just numerical features)**"
   ]
  },
  {
   "cell_type": "code",
   "execution_count": 142,
   "metadata": {},
   "outputs": [],
   "source": [
    "from sklearn.model_selection import train_test_split\n",
    "\n",
    "num_features = data.drop(['date','label', 'tld', 'org','mail_type'], axis=1)\n",
    "#Split into train,test df\n",
    "X_train, X_test, y_train, y_test = train_test_split(num_features, data[\"label\"], test_size=0.1)"
   ]
  },
  {
   "cell_type": "code",
   "execution_count": 143,
   "metadata": {
    "id": "Rv-gxx5uupR0"
   },
   "outputs": [],
   "source": [
    "# KNN\n",
    "\n",
    "from sklearn.neighbors import KNeighborsClassifier\n",
    "from sklearn import metrics\n",
    "\n",
    "\n",
    "#Find the optimal value for k \n",
    "k_range =range(1,20)\n",
    "scores={}\n",
    "scores_list=[]\n",
    "for k in k_range:\n",
    "  knn= KNeighborsClassifier(n_neighbors=k)\n",
    "  knn.fit(X_train, y_train)\n",
    "  y_pred= knn.predict(X_test)\n",
    "  scores[k] = metrics.accuracy_score(y_test,y_pred)\n",
    "  scores_list.append(metrics.accuracy_score(y_test,y_pred))"
   ]
  },
  {
   "cell_type": "code",
   "execution_count": 144,
   "metadata": {
    "colab": {
     "base_uri": "https://localhost:8080/",
     "height": 286
    },
    "id": "h_rjpagJvxv-",
    "outputId": "37fa70a4-a3a7-4b0f-ebc9-3f0e7da2cbe0"
   },
   "outputs": [
    {
     "data": {
      "text/plain": [
       "[<matplotlib.lines.Line2D at 0x2607826f080>]"
      ]
     },
     "execution_count": 144,
     "metadata": {},
     "output_type": "execute_result"
    },
    {
     "data": {
      "image/png": "[encoded data removed]",
      "text/plain": [
       "<Figure size 432x288 with 1 Axes>"
      ]
     },
     "metadata": {
      "needs_background": "light"
     },
     "output_type": "display_data"
    }
   ],
   "source": [
    "#Plot accuracy:\n",
    "import matplotlib.pyplot as plt\n",
    "\n",
    "plt.plot(k_range,scores_list)"
   ]
  },
  {
   "cell_type": "markdown",
   "metadata": {},
   "source": [
    "**KNN all features**"
   ]
  },
  {
   "cell_type": "code",
   "execution_count": 145,
   "metadata": {},
   "outputs": [],
   "source": [
    "from sklearn.model_selection import train_test_split\n",
    "\n",
    "#Split into train,test df\n",
    "X_train, X_test, y_train, y_test = train_test_split(input, target, test_size=0.1)"
   ]
  },
  {
   "cell_type": "code",
   "execution_count": 146,
   "metadata": {
    "id": "Rv-gxx5uupR0"
   },
   "outputs": [],
   "source": [
    "# KNN\n",
    "\n",
    "from sklearn.neighbors import KNeighborsClassifier\n",
    "from sklearn import metrics\n",
    "\n",
    "\n",
    "#Find the optimal value for k \n",
    "k_range =range(1,20)\n",
    "scores={}\n",
    "scores_list=[]\n",
    "for k in k_range:\n",
    "  knn= KNeighborsClassifier(n_neighbors=k)\n",
    "  knn.fit(X_train, y_train)\n",
    "  y_pred= knn.predict(X_test)\n",
    "  scores[k] = metrics.accuracy_score(y_test,y_pred)\n",
    "  scores_list.append(metrics.accuracy_score(y_test,y_pred))"
   ]
  },
  {
   "cell_type": "code",
   "execution_count": 147,
   "metadata": {
    "colab": {
     "base_uri": "https://localhost:8080/",
     "height": 286
    },
    "id": "h_rjpagJvxv-",
    "outputId": "37fa70a4-a3a7-4b0f-ebc9-3f0e7da2cbe0"
   },
   "outputs": [
    {
     "data": {
      "text/plain": [
       "[<matplotlib.lines.Line2D at 0x26079f83b70>]"
      ]
     },
     "execution_count": 147,
     "metadata": {},
     "output_type": "execute_result"
    },
    {
     "data": {
      "image/png": "[encoded data removed]",
      "text/plain": [
       "<Figure size 432x288 with 1 Axes>"
      ]
     },
     "metadata": {
      "needs_background": "light"
     },
     "output_type": "display_data"
    }
   ],
   "source": [
    "#Plot accuracy:\n",
    "import matplotlib.pyplot as plt\n",
    "\n",
    "plt.plot(k_range,scores_list)"
   ]
  },
  {
   "cell_type": "markdown",
   "metadata": {},
   "source": [
    "**CAT BOOST**"
   ]
  },
  {
   "cell_type": "code",
   "execution_count": 180,
   "metadata": {},
   "outputs": [],
   "source": [
    "#splitting dataset for train and test\n",
    "\n",
    "label = data['label']\n",
    "train = data.drop('label', axis=1)\n",
    "x_train, x_test, y_train, y_test = train_test_split(train, label, test_size=0.1, random_state=2)"
   ]
  },
  {
   "cell_type": "code",
   "execution_count": 182,
   "metadata": {
    "scrolled": true
   },
   "outputs": [
    {
     "name": "stdout",
     "output_type": "stream",
     "text": [
      "0:\tlearn: 1.8590732\ttotal: 696ms\tremaining: 55s\n",
      "1:\tlearn: 1.7114794\ttotal: 1.34s\tremaining: 52.1s\n",
      "2:\tlearn: 1.5971071\ttotal: 1.94s\tremaining: 49.8s\n",
      "3:\tlearn: 1.5058869\ttotal: 2.57s\tremaining: 48.9s\n",
      "4:\tlearn: 1.4311963\ttotal: 3.41s\tremaining: 51.1s\n",
      "5:\tlearn: 1.3727808\ttotal: 4.11s\tremaining: 50.7s\n",
      "6:\tlearn: 1.3210369\ttotal: 4.74s\tremaining: 49.5s\n",
      "7:\tlearn: 1.2720684\ttotal: 5.36s\tremaining: 48.3s\n",
      "8:\tlearn: 1.2322384\ttotal: 5.9s\tremaining: 46.6s\n",
      "9:\tlearn: 1.1957505\ttotal: 6.48s\tremaining: 45.4s\n",
      "10:\tlearn: 1.1643983\ttotal: 7.06s\tremaining: 44.3s\n",
      "11:\tlearn: 1.1388106\ttotal: 7.61s\tremaining: 43.1s\n",
      "12:\tlearn: 1.1155392\ttotal: 8.2s\tremaining: 42.3s\n",
      "13:\tlearn: 1.0942773\ttotal: 8.76s\tremaining: 41.3s\n",
      "14:\tlearn: 1.0765836\ttotal: 9.32s\tremaining: 40.4s\n",
      "15:\tlearn: 1.0584938\ttotal: 9.89s\tremaining: 39.6s\n",
      "16:\tlearn: 1.0299627\ttotal: 10.6s\tremaining: 39.2s\n",
      "17:\tlearn: 1.0065899\ttotal: 11.2s\tremaining: 38.7s\n",
      "18:\tlearn: 0.9853207\ttotal: 11.8s\tremaining: 37.9s\n",
      "19:\tlearn: 0.9666383\ttotal: 12.4s\tremaining: 37.2s\n",
      "20:\tlearn: 0.9494815\ttotal: 12.9s\tremaining: 36.4s\n",
      "21:\tlearn: 0.9361225\ttotal: 13.5s\tremaining: 35.7s\n",
      "22:\tlearn: 0.9234455\ttotal: 14.1s\tremaining: 35s\n",
      "23:\tlearn: 0.9120084\ttotal: 14.7s\tremaining: 34.2s\n",
      "24:\tlearn: 0.9026313\ttotal: 15.2s\tremaining: 33.5s\n",
      "25:\tlearn: 0.8942174\ttotal: 15.9s\tremaining: 33s\n",
      "26:\tlearn: 0.8867243\ttotal: 16.7s\tremaining: 32.7s\n",
      "27:\tlearn: 0.8798063\ttotal: 17.3s\tremaining: 32.2s\n",
      "28:\tlearn: 0.8731698\ttotal: 17.9s\tremaining: 31.6s\n",
      "29:\tlearn: 0.8679756\ttotal: 18.6s\tremaining: 31.1s\n",
      "30:\tlearn: 0.8614468\ttotal: 19.4s\tremaining: 30.7s\n",
      "31:\tlearn: 0.8568380\ttotal: 20.1s\tremaining: 30.2s\n",
      "32:\tlearn: 0.8526663\ttotal: 20.7s\tremaining: 29.5s\n",
      "33:\tlearn: 0.8493609\ttotal: 21.3s\tremaining: 28.8s\n",
      "34:\tlearn: 0.8454606\ttotal: 21.9s\tremaining: 28.1s\n",
      "35:\tlearn: 0.8399264\ttotal: 22.5s\tremaining: 27.5s\n",
      "36:\tlearn: 0.8337523\ttotal: 23.2s\tremaining: 27s\n",
      "37:\tlearn: 0.8296493\ttotal: 23.9s\tremaining: 26.4s\n",
      "38:\tlearn: 0.8242692\ttotal: 24.6s\tremaining: 25.8s\n",
      "39:\tlearn: 0.8210682\ttotal: 25.2s\tremaining: 25.2s\n",
      "40:\tlearn: 0.8167930\ttotal: 25.8s\tremaining: 24.5s\n",
      "41:\tlearn: 0.8135584\ttotal: 26.5s\tremaining: 24s\n",
      "42:\tlearn: 0.8105644\ttotal: 27.1s\tremaining: 23.3s\n",
      "43:\tlearn: 0.8083551\ttotal: 27.7s\tremaining: 22.6s\n",
      "44:\tlearn: 0.8048161\ttotal: 28.2s\tremaining: 22s\n",
      "45:\tlearn: 0.8022725\ttotal: 29s\tremaining: 21.4s\n",
      "46:\tlearn: 0.7998681\ttotal: 29.7s\tremaining: 20.8s\n",
      "47:\tlearn: 0.7970973\ttotal: 30.4s\tremaining: 20.3s\n",
      "48:\tlearn: 0.7954206\ttotal: 31s\tremaining: 19.6s\n",
      "49:\tlearn: 0.7934431\ttotal: 31.7s\tremaining: 19s\n",
      "50:\tlearn: 0.7920346\ttotal: 32.3s\tremaining: 18.4s\n",
      "51:\tlearn: 0.7900386\ttotal: 33s\tremaining: 17.8s\n",
      "52:\tlearn: 0.7887040\ttotal: 33.6s\tremaining: 17.1s\n",
      "53:\tlearn: 0.7871129\ttotal: 34.3s\tremaining: 16.5s\n",
      "54:\tlearn: 0.7856583\ttotal: 35.1s\tremaining: 16s\n",
      "55:\tlearn: 0.7835327\ttotal: 36s\tremaining: 15.4s\n",
      "56:\tlearn: 0.7816272\ttotal: 36.7s\tremaining: 14.8s\n",
      "57:\tlearn: 0.7801817\ttotal: 37.3s\tremaining: 14.2s\n",
      "58:\tlearn: 0.7781754\ttotal: 38s\tremaining: 13.5s\n",
      "59:\tlearn: 0.7764665\ttotal: 38.6s\tremaining: 12.9s\n",
      "60:\tlearn: 0.7741984\ttotal: 39.2s\tremaining: 12.2s\n",
      "61:\tlearn: 0.7727837\ttotal: 39.8s\tremaining: 11.6s\n",
      "62:\tlearn: 0.7715283\ttotal: 40.4s\tremaining: 10.9s\n",
      "63:\tlearn: 0.7699996\ttotal: 41s\tremaining: 10.3s\n",
      "64:\tlearn: 0.7685116\ttotal: 41.6s\tremaining: 9.61s\n",
      "65:\tlearn: 0.7669293\ttotal: 42.4s\tremaining: 9s\n",
      "66:\tlearn: 0.7657115\ttotal: 43.1s\tremaining: 8.37s\n",
      "67:\tlearn: 0.7651726\ttotal: 43.4s\tremaining: 7.66s\n",
      "68:\tlearn: 0.7644130\ttotal: 44.1s\tremaining: 7.04s\n",
      "69:\tlearn: 0.7628793\ttotal: 44.7s\tremaining: 6.39s\n",
      "70:\tlearn: 0.7616808\ttotal: 45.3s\tremaining: 5.75s\n",
      "71:\tlearn: 0.7614007\ttotal: 45.5s\tremaining: 5.06s\n",
      "72:\tlearn: 0.7601818\ttotal: 46.1s\tremaining: 4.42s\n",
      "73:\tlearn: 0.7585349\ttotal: 46.7s\tremaining: 3.78s\n",
      "74:\tlearn: 0.7576878\ttotal: 47.2s\tremaining: 3.15s\n",
      "75:\tlearn: 0.7559839\ttotal: 47.8s\tremaining: 2.52s\n",
      "76:\tlearn: 0.7547836\ttotal: 48.5s\tremaining: 1.89s\n",
      "77:\tlearn: 0.7535802\ttotal: 49.1s\tremaining: 1.26s\n",
      "78:\tlearn: 0.7522682\ttotal: 49.7s\tremaining: 629ms\n",
      "79:\tlearn: 0.7506198\ttotal: 50.3s\tremaining: 0us\n"
     ]
    },
    {
     "data": {
      "text/plain": [
       "<catboost.core.CatBoostClassifier at 0x26008eef7b8>"
      ]
     },
     "execution_count": 182,
     "metadata": {},
     "output_type": "execute_result"
    }
   ],
   "source": [
    "#create and run the model\n",
    "\n",
    "from catboost import CatBoostClassifier, Pool\n",
    "\n",
    "#indicating which features are not categorical\n",
    "categorical_features_indices = np.where(train.dtypes != np.float)[0]\n",
    "train_pool = Pool(x_train, y_train, cat_features=categorical_features_indices)\n",
    "\n",
    "#actual model\n",
    "cat = CatBoostClassifier(iterations=80, learning_rate=0.1, depth=10, one_hot_max_size=1500)\n",
    "cat.fit(train_pool)\n"
   ]
  },
  {
   "cell_type": "code",
   "execution_count": 183,
   "metadata": {},
   "outputs": [
    {
     "name": "stdout",
     "output_type": "stream",
     "text": [
      "Accuracy on training set 0.3884168092572721\n",
      "Accuracy on test set 0.7166905911522903\n"
     ]
    }
   ],
   "source": [
    "from sklearn.metrics import accuracy_score\n",
    "\n",
    "#make prediction for evaluation\n",
    "pred_y_train = cat.predict(x_train)\n",
    "pred_y_test = cat.predict(x_test)\n",
    "\n",
    "#get accuracy\n",
    "print('Accuracy on training set ' + str(accuracy_score(y_train, pred_y_train)))\n",
    "print('Accuracy on test set ' + str(accuracy_score(y_test, pred_y_test)))"
   ]
  },
  {
   "cell_type": "markdown",
   "metadata": {},
   "source": [
    "**Predictions using CAT BOOSTER**"
   ]
  },
  {
   "cell_type": "code",
   "execution_count": 207,
   "metadata": {},
   "outputs": [
    {
     "data": {
      "text/html": [
       "<div>\n",
       "<style scoped>\n",
       "    .dataframe tbody tr th:only-of-type {\n",
       "        vertical-align: middle;\n",
       "    }\n",
       "\n",
       "    .dataframe tbody tr th {\n",
       "        vertical-align: top;\n",
       "    }\n",
       "\n",
       "    .dataframe thead th {\n",
       "        text-align: right;\n",
       "    }\n",
       "</style>\n",
       "<table border=\"1\" class=\"dataframe\">\n",
       "  <thead>\n",
       "    <tr style=\"text-align: right;\">\n",
       "      <th></th>\n",
       "      <th>date</th>\n",
       "      <th>org</th>\n",
       "      <th>tld</th>\n",
       "      <th>ccs</th>\n",
       "      <th>bcced</th>\n",
       "      <th>mail_type</th>\n",
       "      <th>images</th>\n",
       "      <th>urls</th>\n",
       "      <th>salutations</th>\n",
       "      <th>designation</th>\n",
       "      <th>chars_in_subject</th>\n",
       "      <th>chars_in_body</th>\n",
       "    </tr>\n",
       "  </thead>\n",
       "  <tbody>\n",
       "    <tr>\n",
       "      <th>0</th>\n",
       "      <td>Wed, 1 Nov 2017 15:51:21 +0530</td>\n",
       "      <td>iiitd</td>\n",
       "      <td>ac.in</td>\n",
       "      <td>0</td>\n",
       "      <td>0</td>\n",
       "      <td>multipart/alternative</td>\n",
       "      <td>0</td>\n",
       "      <td>12</td>\n",
       "      <td>1</td>\n",
       "      <td>0</td>\n",
       "      <td>20.0</td>\n",
       "      <td>4505</td>\n",
       "    </tr>\n",
       "    <tr>\n",
       "      <th>1</th>\n",
       "      <td>Thu, 05 Mar 2015 20:47:22 -0500</td>\n",
       "      <td>notifications</td>\n",
       "      <td>freelancer.com</td>\n",
       "      <td>0</td>\n",
       "      <td>0</td>\n",
       "      <td>multipart/alternative</td>\n",
       "      <td>7</td>\n",
       "      <td>49</td>\n",
       "      <td>1</td>\n",
       "      <td>0</td>\n",
       "      <td>49.0</td>\n",
       "      <td>32949</td>\n",
       "    </tr>\n",
       "  </tbody>\n",
       "</table>\n",
       "</div>"
      ],
      "text/plain": [
       "                              date            org             tld  ccs  bcced  \\\n",
       "0   Wed, 1 Nov 2017 15:51:21 +0530          iiitd           ac.in    0      0   \n",
       "1  Thu, 05 Mar 2015 20:47:22 -0500  notifications  freelancer.com    0      0   \n",
       "\n",
       "               mail_type  images  urls  salutations  designation  \\\n",
       "0  multipart/alternative       0    12            1            0   \n",
       "1  multipart/alternative       7    49            1            0   \n",
       "\n",
       "   chars_in_subject  chars_in_body  \n",
       "0              20.0           4505  \n",
       "1              49.0          32949  "
      ]
     },
     "execution_count": 207,
     "metadata": {},
     "output_type": "execute_result"
    }
   ],
   "source": [
    "#Load the dataframe\n",
    "test=pd.read_csv(\"test.csv\")\n",
    "test.drop(columns=test.columns[0], axis=1, inplace=True)\n",
    "test.head(2)"
   ]
  },
  {
   "cell_type": "code",
   "execution_count": 176,
   "metadata": {
    "scrolled": true
   },
   "outputs": [
    {
     "data": {
      "text/plain": [
       "date                   0\n",
       "org                 1536\n",
       "tld                 1536\n",
       "ccs                    0\n",
       "bcced                  0\n",
       "mail_type             80\n",
       "images                 0\n",
       "urls                   0\n",
       "salutations            0\n",
       "designation            0\n",
       "chars_in_subject       6\n",
       "chars_in_body          0\n",
       "dtype: int64"
      ]
     },
     "execution_count": 176,
     "metadata": {},
     "output_type": "execute_result"
    }
   ],
   "source": [
    "#detect that there is 80 missing values (in mail_type)\n",
    "test.isna().sum()"
   ]
  },
  {
   "cell_type": "code",
   "execution_count": 177,
   "metadata": {},
   "outputs": [],
   "source": [
    "#Replace Na by the most common value\n",
    "test[\"mail_type\"].fillna(\"multipart/alternative\", inplace=True)"
   ]
  },
  {
   "cell_type": "code",
   "execution_count": 178,
   "metadata": {},
   "outputs": [],
   "source": [
    "#Apply the same transformation on the test data\n",
    "orgs = data[\"org\"].unique()\n",
    "test[\"org\"]=test[\"org\"].apply(lambda x: \"other\" if not x  in orgs else x)\n",
    "\n",
    "tlds = data[\"tld\"].unique()\n",
    "test[\"tld\"] = test[\"tld\"].apply(lambda x: \"other\" if not x  in tlds else x)"
   ]
  },
  {
   "cell_type": "code",
   "execution_count": 184,
   "metadata": {},
   "outputs": [],
   "source": [
    "#Run the model\n",
    "categorical_features_indices = np.where(test.dtypes != np.float)[0]\n",
    "evalu = Pool(data=test, cat_features=categorical_features_indices)\n",
    "\n",
    "pred_y = cat.predict(evalu)"
   ]
  },
  {
   "cell_type": "code",
   "execution_count": 208,
   "metadata": {},
   "outputs": [],
   "source": [
    "#Final output \n",
    "output=pd.DataFrame(pred_y,columns=['label'])\n",
    "output.index.rename('Id', inplace=True)\n",
    "\n",
    "output.to_csv(\"result.csv\")"
   ]
  }
 ],
 "metadata": {
  "kernelspec": {
   "display_name": "Python 3",
   "language": "python",
   "name": "python3"
  },
  "language_info": {
   "codemirror_mode": {
    "name": "ipython",
    "version": 3
   },
   "file_extension": ".py",
   "mimetype": "text/x-python",
   "name": "python",
   "nbconvert_exporter": "python",
   "pygments_lexer": "ipython3",
   "version": "3.7.0"
  }
 },
 "nbformat": 4,
 "nbformat_minor": 4
}
