{
 "cells": [
  {
   "cell_type": "markdown",
   "metadata": {
    "id": "LjYf1HgLS9DP"
   },
   "source": [
    "**DATA EXPLORATION**\n"
   ]
  },
  {
   "cell_type": "code",
   "execution_count": 1,
   "metadata": {
    "id": "nHz3JgYFfiVX"
   },
   "outputs": [],
   "source": [
    "#Libraries importation\n",
    "import pandas as pd\n",
    "import seaborn as sn\n",
    "import matplotlib.pyplot as plt"
   ]
  },
  {
   "cell_type": "code",
   "execution_count": 3,
   "metadata": {
    "colab": {
     "base_uri": "https://localhost:8080/",
     "height": 206
    },
    "id": "3reRD-02go4L",
    "outputId": "f8f1e142-4828-4124-d439-d284990b18f9"
   },
   "outputs": [
    {
     "data": {
      "text/html": [
       "<div>\n",
       "<style scoped>\n",
       "    .dataframe tbody tr th:only-of-type {\n",
       "        vertical-align: middle;\n",
       "    }\n",
       "\n",
       "    .dataframe tbody tr th {\n",
       "        vertical-align: top;\n",
       "    }\n",
       "\n",
       "    .dataframe thead th {\n",
       "        text-align: right;\n",
       "    }\n",
       "</style>\n",
       "<table border=\"1\" class=\"dataframe\">\n",
       "  <thead>\n",
       "    <tr style=\"text-align: right;\">\n",
       "      <th></th>\n",
       "      <th>ID</th>\n",
       "      <th>date</th>\n",
       "      <th>org</th>\n",
       "      <th>tld</th>\n",
       "      <th>ccs</th>\n",
       "      <th>bcced</th>\n",
       "      <th>mail_type</th>\n",
       "      <th>images</th>\n",
       "      <th>urls</th>\n",
       "      <th>salutations</th>\n",
       "      <th>designation</th>\n",
       "      <th>chars_in_subject</th>\n",
       "      <th>chars_in_body</th>\n",
       "      <th>label</th>\n",
       "    </tr>\n",
       "  </thead>\n",
       "  <tbody>\n",
       "    <tr>\n",
       "      <th>0</th>\n",
       "      <td>0</td>\n",
       "      <td>Mon, 6 Nov 2017 11:13:45 +0100</td>\n",
       "      <td>reply</td>\n",
       "      <td>ebay.in</td>\n",
       "      <td>0</td>\n",
       "      <td>0</td>\n",
       "      <td>multipart/alternative</td>\n",
       "      <td>35</td>\n",
       "      <td>120</td>\n",
       "      <td>0</td>\n",
       "      <td>0</td>\n",
       "      <td>49.0</td>\n",
       "      <td>80027</td>\n",
       "      <td>2</td>\n",
       "    </tr>\n",
       "    <tr>\n",
       "      <th>1</th>\n",
       "      <td>1</td>\n",
       "      <td>Wed, 14 Feb 2018 11:00:16 -0000</td>\n",
       "      <td>edm</td>\n",
       "      <td>efinmail.com</td>\n",
       "      <td>0</td>\n",
       "      <td>0</td>\n",
       "      <td>multipart/alternative</td>\n",
       "      <td>1</td>\n",
       "      <td>7</td>\n",
       "      <td>0</td>\n",
       "      <td>0</td>\n",
       "      <td>107.0</td>\n",
       "      <td>2961</td>\n",
       "      <td>1</td>\n",
       "    </tr>\n",
       "    <tr>\n",
       "      <th>2</th>\n",
       "      <td>2</td>\n",
       "      <td>Wed, 6 Jul 2016 19:53:37 +0000</td>\n",
       "      <td>usebackpack</td>\n",
       "      <td>com</td>\n",
       "      <td>0</td>\n",
       "      <td>0</td>\n",
       "      <td>text/html</td>\n",
       "      <td>4</td>\n",
       "      <td>17</td>\n",
       "      <td>0</td>\n",
       "      <td>0</td>\n",
       "      <td>35.0</td>\n",
       "      <td>25149</td>\n",
       "      <td>1</td>\n",
       "    </tr>\n",
       "    <tr>\n",
       "      <th>3</th>\n",
       "      <td>3</td>\n",
       "      <td>Fri, 11 Oct 2019 11:25:40 +0200</td>\n",
       "      <td>granular</td>\n",
       "      <td>ai</td>\n",
       "      <td>0</td>\n",
       "      <td>0</td>\n",
       "      <td>multipart/mixed</td>\n",
       "      <td>0</td>\n",
       "      <td>0</td>\n",
       "      <td>0</td>\n",
       "      <td>0</td>\n",
       "      <td>15.0</td>\n",
       "      <td>635296</td>\n",
       "      <td>1</td>\n",
       "    </tr>\n",
       "    <tr>\n",
       "      <th>4</th>\n",
       "      <td>4</td>\n",
       "      <td>Tue, 07 Nov 2017 11:07:18 +0000 (UTC)</td>\n",
       "      <td>github</td>\n",
       "      <td>com</td>\n",
       "      <td>1</td>\n",
       "      <td>0</td>\n",
       "      <td>multipart/alternative</td>\n",
       "      <td>2</td>\n",
       "      <td>11</td>\n",
       "      <td>0</td>\n",
       "      <td>0</td>\n",
       "      <td>49.0</td>\n",
       "      <td>2355</td>\n",
       "      <td>1</td>\n",
       "    </tr>\n",
       "  </tbody>\n",
       "</table>\n",
       "</div>"
      ],
      "text/plain": [
       "   ID                                   date          org           tld  ccs  \\\n",
       "0   0         Mon, 6 Nov 2017 11:13:45 +0100        reply       ebay.in    0   \n",
       "1   1        Wed, 14 Feb 2018 11:00:16 -0000          edm  efinmail.com    0   \n",
       "2   2         Wed, 6 Jul 2016 19:53:37 +0000  usebackpack           com    0   \n",
       "3   3        Fri, 11 Oct 2019 11:25:40 +0200     granular            ai    0   \n",
       "4   4  Tue, 07 Nov 2017 11:07:18 +0000 (UTC)       github           com    1   \n",
       "\n",
       "   bcced              mail_type  images  urls  salutations  designation  \\\n",
       "0      0  multipart/alternative      35   120            0            0   \n",
       "1      0  multipart/alternative       1     7            0            0   \n",
       "2      0              text/html       4    17            0            0   \n",
       "3      0        multipart/mixed       0     0            0            0   \n",
       "4      0  multipart/alternative       2    11            0            0   \n",
       "\n",
       "   chars_in_subject  chars_in_body  label  \n",
       "0              49.0          80027      2  \n",
       "1             107.0           2961      1  \n",
       "2              35.0          25149      1  \n",
       "3              15.0         635296      1  \n",
       "4              49.0           2355      1  "
      ]
     },
     "execution_count": 3,
     "metadata": {},
     "output_type": "execute_result"
    }
   ],
   "source": [
    "#Import df\n",
    "data=pd.read_csv(\"train.csv\")\n",
    "#Rename first column as \"ID\"\n",
    "data.rename(columns={'Unnamed: 0': 'ID'}, inplace=True)\n",
    "\n",
    "data.head(5)"
   ]
  },
  {
   "cell_type": "code",
   "execution_count": 4,
   "metadata": {
    "colab": {
     "base_uri": "https://localhost:8080/"
    },
    "id": "SM6NHWKxg4Ls",
    "outputId": "14702a4a-545c-487c-fe74-2ebb48036460"
   },
   "outputs": [
    {
     "data": {
      "text/plain": [
       "ID                     0\n",
       "date                   0\n",
       "org                 3451\n",
       "tld                 3453\n",
       "ccs                    0\n",
       "bcced                  0\n",
       "mail_type            172\n",
       "images                 0\n",
       "urls                   0\n",
       "salutations            0\n",
       "designation            0\n",
       "chars_in_subject      16\n",
       "chars_in_body          0\n",
       "label                  0\n",
       "dtype: int64"
      ]
     },
     "execution_count": 4,
     "metadata": {},
     "output_type": "execute_result"
    }
   ],
   "source": [
    "# Missing values ?\n",
    "data.isna().sum()"
   ]
  },
  {
   "cell_type": "code",
   "execution_count": 6,
   "metadata": {
    "colab": {
     "base_uri": "https://localhost:8080/",
     "height": 338
    },
    "id": "W38KL9XucB52",
    "outputId": "4d27edee-e9e5-463a-dafe-9d79b345bbee",
    "scrolled": true
   },
   "outputs": [
    {
     "data": {
      "image/png": "[encoded data removed]",
      "text/plain": [
       "<Figure size 432x288 with 2 Axes>"
      ]
     },
     "metadata": {
      "needs_background": "light"
     },
     "output_type": "display_data"
    }
   ],
   "source": [
    "#Correlation matrix with label\n",
    "\n",
    "corrMatrix = data.corr()\n",
    "corrMatrix[corrMatrix==1]=0\n",
    "sn.heatmap(corrMatrix[-1:], annot=True)\n",
    "plt.show()"
   ]
  },
  {
   "cell_type": "code",
   "execution_count": 5,
   "metadata": {
    "colab": {
     "base_uri": "https://localhost:8080/"
    },
    "id": "VpWPcv6nhFM3",
    "outputId": "f129e7b1-af6f-43c3-d589-86e5950f3339"
   },
   "outputs": [
    {
     "data": {
      "text/plain": [
       "(80176, 14)"
      ]
     },
     "execution_count": 5,
     "metadata": {},
     "output_type": "execute_result"
    }
   ],
   "source": [
    "# Shape of the dataframe\n",
    "data.shape"
   ]
  },
  {
   "cell_type": "code",
   "execution_count": 6,
   "metadata": {
    "colab": {
     "base_uri": "https://localhost:8080/"
    },
    "id": "2PFUazUyhg4z",
    "outputId": "61472af4-1bf1-40dc-c990-3cdc62cf7fc5"
   },
   "outputs": [
    {
     "data": {
      "text/plain": [
       "ID                  80176\n",
       "date                47279\n",
       "org                  1038\n",
       "tld                   291\n",
       "ccs                    35\n",
       "bcced                   2\n",
       "mail_type              13\n",
       "images                115\n",
       "urls                  357\n",
       "salutations             2\n",
       "designation             2\n",
       "chars_in_subject      300\n",
       "chars_in_body       31586\n",
       "label                   8\n",
       "dtype: int64"
      ]
     },
     "execution_count": 6,
     "metadata": {},
     "output_type": "execute_result"
    }
   ],
   "source": [
    "#Discrete vs Continuous variable\n",
    "data.nunique()"
   ]
  },
  {
   "cell_type": "code",
   "execution_count": 7,
   "metadata": {
    "colab": {
     "base_uri": "https://localhost:8080/"
    },
    "id": "TFriP0tdkuKt",
    "outputId": "091eb85b-2684-4351-cef2-b7a67a5f6fda"
   },
   "outputs": [
    {
     "data": {
      "text/plain": [
       "1    46.391688\n",
       "0    22.444372\n",
       "3    13.379316\n",
       "2    10.685242\n",
       "7     6.288665\n",
       "4     0.445270\n",
       "6     0.189583\n",
       "5     0.175863\n",
       "Name: label, dtype: float64"
      ]
     },
     "execution_count": 7,
     "metadata": {},
     "output_type": "execute_result"
    }
   ],
   "source": [
    "#Do we have class inbalance ? SPOILER ALERT: YES\n",
    "\n",
    "# % of the class in the db\n",
    "data[\"label\"].value_counts()/data.shape[0]*100"
   ]
  },
  {
   "cell_type": "code",
   "execution_count": 8,
   "metadata": {
    "colab": {
     "base_uri": "https://localhost:8080/",
     "height": 331
    },
    "id": "89KGdufwijzp",
    "outputId": "48c36436-1f09-4a1c-fdfb-323e7d696c08"
   },
   "outputs": [
    {
     "data": {
      "text/html": [
       "<div>\n",
       "<style scoped>\n",
       "    .dataframe tbody tr th:only-of-type {\n",
       "        vertical-align: middle;\n",
       "    }\n",
       "\n",
       "    .dataframe tbody tr th {\n",
       "        vertical-align: top;\n",
       "    }\n",
       "\n",
       "    .dataframe thead th {\n",
       "        text-align: right;\n",
       "    }\n",
       "</style>\n",
       "<table border=\"1\" class=\"dataframe\">\n",
       "  <thead>\n",
       "    <tr style=\"text-align: right;\">\n",
       "      <th></th>\n",
       "      <th>ID</th>\n",
       "      <th>ccs</th>\n",
       "      <th>bcced</th>\n",
       "      <th>images</th>\n",
       "      <th>urls</th>\n",
       "      <th>salutations</th>\n",
       "      <th>designation</th>\n",
       "      <th>chars_in_subject</th>\n",
       "      <th>chars_in_body</th>\n",
       "    </tr>\n",
       "    <tr>\n",
       "      <th>label</th>\n",
       "      <th></th>\n",
       "      <th></th>\n",
       "      <th></th>\n",
       "      <th></th>\n",
       "      <th></th>\n",
       "      <th></th>\n",
       "      <th></th>\n",
       "      <th></th>\n",
       "      <th></th>\n",
       "    </tr>\n",
       "  </thead>\n",
       "  <tbody>\n",
       "    <tr>\n",
       "      <th>0</th>\n",
       "      <td>39730.028008</td>\n",
       "      <td>0.066630</td>\n",
       "      <td>0.000611</td>\n",
       "      <td>6.179772</td>\n",
       "      <td>29.900472</td>\n",
       "      <td>0.295527</td>\n",
       "      <td>0.079244</td>\n",
       "      <td>53.832166</td>\n",
       "      <td>40125.317588</td>\n",
       "    </tr>\n",
       "    <tr>\n",
       "      <th>1</th>\n",
       "      <td>40312.157279</td>\n",
       "      <td>0.487808</td>\n",
       "      <td>0.004571</td>\n",
       "      <td>8.773276</td>\n",
       "      <td>31.212932</td>\n",
       "      <td>0.447453</td>\n",
       "      <td>0.098884</td>\n",
       "      <td>47.479478</td>\n",
       "      <td>267701.841968</td>\n",
       "    </tr>\n",
       "    <tr>\n",
       "      <th>2</th>\n",
       "      <td>39941.582818</td>\n",
       "      <td>0.006187</td>\n",
       "      <td>0.000233</td>\n",
       "      <td>13.910120</td>\n",
       "      <td>64.158515</td>\n",
       "      <td>0.279678</td>\n",
       "      <td>0.102136</td>\n",
       "      <td>56.398506</td>\n",
       "      <td>55664.387884</td>\n",
       "    </tr>\n",
       "    <tr>\n",
       "      <th>3</th>\n",
       "      <td>40210.083621</td>\n",
       "      <td>1.728722</td>\n",
       "      <td>0.004381</td>\n",
       "      <td>0.501165</td>\n",
       "      <td>7.824182</td>\n",
       "      <td>0.639787</td>\n",
       "      <td>0.087816</td>\n",
       "      <td>47.775054</td>\n",
       "      <td>404033.256735</td>\n",
       "    </tr>\n",
       "    <tr>\n",
       "      <th>4</th>\n",
       "      <td>39867.383754</td>\n",
       "      <td>0.005602</td>\n",
       "      <td>0.000000</td>\n",
       "      <td>6.288515</td>\n",
       "      <td>42.271709</td>\n",
       "      <td>0.137255</td>\n",
       "      <td>0.002801</td>\n",
       "      <td>64.745098</td>\n",
       "      <td>32079.938375</td>\n",
       "    </tr>\n",
       "    <tr>\n",
       "      <th>5</th>\n",
       "      <td>41156.141844</td>\n",
       "      <td>0.014184</td>\n",
       "      <td>0.000000</td>\n",
       "      <td>4.595745</td>\n",
       "      <td>21.177305</td>\n",
       "      <td>0.553191</td>\n",
       "      <td>0.000000</td>\n",
       "      <td>69.184397</td>\n",
       "      <td>134410.354610</td>\n",
       "    </tr>\n",
       "    <tr>\n",
       "      <th>6</th>\n",
       "      <td>36446.322368</td>\n",
       "      <td>0.000000</td>\n",
       "      <td>0.000000</td>\n",
       "      <td>7.513158</td>\n",
       "      <td>38.059211</td>\n",
       "      <td>0.203947</td>\n",
       "      <td>0.013158</td>\n",
       "      <td>55.625000</td>\n",
       "      <td>23519.223684</td>\n",
       "    </tr>\n",
       "    <tr>\n",
       "      <th>7</th>\n",
       "      <td>39788.622769</td>\n",
       "      <td>0.000000</td>\n",
       "      <td>0.000000</td>\n",
       "      <td>12.963110</td>\n",
       "      <td>80.176914</td>\n",
       "      <td>0.238794</td>\n",
       "      <td>0.284411</td>\n",
       "      <td>71.429988</td>\n",
       "      <td>56491.449821</td>\n",
       "    </tr>\n",
       "  </tbody>\n",
       "</table>\n",
       "</div>"
      ],
      "text/plain": [
       "                 ID       ccs  ...  chars_in_subject  chars_in_body\n",
       "label                          ...                                 \n",
       "0      39730.028008  0.066630  ...         53.832166   40125.317588\n",
       "1      40312.157279  0.487808  ...         47.479478  267701.841968\n",
       "2      39941.582818  0.006187  ...         56.398506   55664.387884\n",
       "3      40210.083621  1.728722  ...         47.775054  404033.256735\n",
       "4      39867.383754  0.005602  ...         64.745098   32079.938375\n",
       "5      41156.141844  0.014184  ...         69.184397  134410.354610\n",
       "6      36446.322368  0.000000  ...         55.625000   23519.223684\n",
       "7      39788.622769  0.000000  ...         71.429988   56491.449821\n",
       "\n",
       "[8 rows x 9 columns]"
      ]
     },
     "execution_count": 8,
     "metadata": {},
     "output_type": "execute_result"
    }
   ],
   "source": [
    "#Understand the features of each class (mean/std)\n",
    "data.groupby([\"label\"]).mean()"
   ]
  },
  {
   "cell_type": "code",
   "execution_count": 9,
   "metadata": {
    "colab": {
     "base_uri": "https://localhost:8080/",
     "height": 331
    },
    "id": "JcRvRBhulIt_",
    "outputId": "7be86d91-2fd8-4802-9d4a-ccc307cbba24"
   },
   "outputs": [
    {
     "data": {
      "text/html": [
       "<div>\n",
       "<style scoped>\n",
       "    .dataframe tbody tr th:only-of-type {\n",
       "        vertical-align: middle;\n",
       "    }\n",
       "\n",
       "    .dataframe tbody tr th {\n",
       "        vertical-align: top;\n",
       "    }\n",
       "\n",
       "    .dataframe thead th {\n",
       "        text-align: right;\n",
       "    }\n",
       "</style>\n",
       "<table border=\"1\" class=\"dataframe\">\n",
       "  <thead>\n",
       "    <tr style=\"text-align: right;\">\n",
       "      <th></th>\n",
       "      <th>ID</th>\n",
       "      <th>ccs</th>\n",
       "      <th>bcced</th>\n",
       "      <th>images</th>\n",
       "      <th>urls</th>\n",
       "      <th>salutations</th>\n",
       "      <th>designation</th>\n",
       "      <th>chars_in_subject</th>\n",
       "      <th>chars_in_body</th>\n",
       "    </tr>\n",
       "    <tr>\n",
       "      <th>label</th>\n",
       "      <th></th>\n",
       "      <th></th>\n",
       "      <th></th>\n",
       "      <th></th>\n",
       "      <th></th>\n",
       "      <th></th>\n",
       "      <th></th>\n",
       "      <th></th>\n",
       "      <th></th>\n",
       "    </tr>\n",
       "  </thead>\n",
       "  <tbody>\n",
       "    <tr>\n",
       "      <th>0</th>\n",
       "      <td>23137.153430</td>\n",
       "      <td>1.482271</td>\n",
       "      <td>0.024717</td>\n",
       "      <td>9.555537</td>\n",
       "      <td>38.319585</td>\n",
       "      <td>0.456292</td>\n",
       "      <td>0.270127</td>\n",
       "      <td>33.369095</td>\n",
       "      <td>4.017408e+05</td>\n",
       "    </tr>\n",
       "    <tr>\n",
       "      <th>1</th>\n",
       "      <td>23173.221844</td>\n",
       "      <td>3.751679</td>\n",
       "      <td>0.067452</td>\n",
       "      <td>448.304338</td>\n",
       "      <td>127.702634</td>\n",
       "      <td>0.497238</td>\n",
       "      <td>0.298511</td>\n",
       "      <td>33.381192</td>\n",
       "      <td>2.363105e+06</td>\n",
       "    </tr>\n",
       "    <tr>\n",
       "      <th>2</th>\n",
       "      <td>23088.432564</td>\n",
       "      <td>0.106234</td>\n",
       "      <td>0.015278</td>\n",
       "      <td>12.902266</td>\n",
       "      <td>55.682209</td>\n",
       "      <td>0.448867</td>\n",
       "      <td>0.302845</td>\n",
       "      <td>30.683443</td>\n",
       "      <td>2.232768e+05</td>\n",
       "    </tr>\n",
       "    <tr>\n",
       "      <th>3</th>\n",
       "      <td>23117.888321</td>\n",
       "      <td>4.569644</td>\n",
       "      <td>0.066051</td>\n",
       "      <td>2.213517</td>\n",
       "      <td>77.163484</td>\n",
       "      <td>0.480084</td>\n",
       "      <td>0.283040</td>\n",
       "      <td>30.865700</td>\n",
       "      <td>2.626837e+06</td>\n",
       "    </tr>\n",
       "    <tr>\n",
       "      <th>4</th>\n",
       "      <td>22719.707788</td>\n",
       "      <td>0.074743</td>\n",
       "      <td>0.000000</td>\n",
       "      <td>5.513335</td>\n",
       "      <td>29.783330</td>\n",
       "      <td>0.344599</td>\n",
       "      <td>0.052926</td>\n",
       "      <td>26.877051</td>\n",
       "      <td>2.651528e+04</td>\n",
       "    </tr>\n",
       "    <tr>\n",
       "      <th>5</th>\n",
       "      <td>23610.141581</td>\n",
       "      <td>0.118672</td>\n",
       "      <td>0.000000</td>\n",
       "      <td>8.006229</td>\n",
       "      <td>30.337220</td>\n",
       "      <td>0.498935</td>\n",
       "      <td>0.000000</td>\n",
       "      <td>38.339760</td>\n",
       "      <td>2.318329e+05</td>\n",
       "    </tr>\n",
       "    <tr>\n",
       "      <th>6</th>\n",
       "      <td>23987.653697</td>\n",
       "      <td>0.000000</td>\n",
       "      <td>0.000000</td>\n",
       "      <td>10.019839</td>\n",
       "      <td>56.540700</td>\n",
       "      <td>0.404262</td>\n",
       "      <td>0.114327</td>\n",
       "      <td>23.313530</td>\n",
       "      <td>2.624186e+04</td>\n",
       "    </tr>\n",
       "    <tr>\n",
       "      <th>7</th>\n",
       "      <td>23094.022319</td>\n",
       "      <td>0.000000</td>\n",
       "      <td>0.000000</td>\n",
       "      <td>11.067924</td>\n",
       "      <td>59.175909</td>\n",
       "      <td>0.426389</td>\n",
       "      <td>0.451178</td>\n",
       "      <td>39.025208</td>\n",
       "      <td>3.424142e+04</td>\n",
       "    </tr>\n",
       "  </tbody>\n",
       "</table>\n",
       "</div>"
      ],
      "text/plain": [
       "                 ID       ccs  ...  chars_in_subject  chars_in_body\n",
       "label                          ...                                 \n",
       "0      23137.153430  1.482271  ...         33.369095   4.017408e+05\n",
       "1      23173.221844  3.751679  ...         33.381192   2.363105e+06\n",
       "2      23088.432564  0.106234  ...         30.683443   2.232768e+05\n",
       "3      23117.888321  4.569644  ...         30.865700   2.626837e+06\n",
       "4      22719.707788  0.074743  ...         26.877051   2.651528e+04\n",
       "5      23610.141581  0.118672  ...         38.339760   2.318329e+05\n",
       "6      23987.653697  0.000000  ...         23.313530   2.624186e+04\n",
       "7      23094.022319  0.000000  ...         39.025208   3.424142e+04\n",
       "\n",
       "[8 rows x 9 columns]"
      ]
     },
     "execution_count": 9,
     "metadata": {},
     "output_type": "execute_result"
    }
   ],
   "source": [
    "data.groupby([\"label\"]).std()"
   ]
  },
  {
   "cell_type": "code",
   "execution_count": 8,
   "metadata": {},
   "outputs": [
    {
     "data": {
      "text/plain": [
       "iiitd          19943\n",
       "usebackpack     5070\n",
       "google          3890\n",
       "amazon          3123\n",
       "linkedin        2371\n",
       "               ...  \n",
       "xrce               1\n",
       "bsnl               1\n",
       "paytmoffers        1\n",
       "speed              1\n",
       "iadvize            1\n",
       "Name: org, Length: 1038, dtype: int64"
      ]
     },
     "execution_count": 8,
     "metadata": {},
     "output_type": "execute_result"
    }
   ],
   "source": [
    "#How many value of the categorical variables ?\n",
    "\n",
    "data[\"org\"].value_counts()\n",
    "#1038 diffrent variables, too big"
   ]
  },
  {
   "cell_type": "code",
   "execution_count": 13,
   "metadata": {},
   "outputs": [
    {
     "data": {
      "text/plain": [
       "multipart/alternative    58449\n",
       "text/html                10224\n",
       "multipart/mixed           6461\n",
       "text/plain                2720\n",
       "multipart/related         1996\n",
       "text/html                   58\n",
       "Multipart/Mixed             39\n",
       "multipart/signed            26\n",
       "multipart/report            13\n",
       "Text/Html                   10\n",
       "text/calendar                4\n",
       "Multipart/Alternative        3\n",
       "multipart/IDM                1\n",
       "Name: mail_type, dtype: int64"
      ]
     },
     "execution_count": 13,
     "metadata": {},
     "output_type": "execute_result"
    }
   ],
   "source": [
    "data[\"mail_type\"].value_counts()[:30]\n",
    "#291 diffrent variables, too big"
   ]
  }
 ],
 "metadata": {
  "colab": {
   "collapsed_sections": [],
   "name": "Naive_Bayes.ipynb",
   "provenance": []
  },
  "kernelspec": {
   "display_name": "Python 3",
   "language": "python",
   "name": "python3"
  },
  "language_info": {
   "codemirror_mode": {
    "name": "ipython",
    "version": 3
   },
   "file_extension": ".py",
   "mimetype": "text/x-python",
   "name": "python",
   "nbconvert_exporter": "python",
   "pygments_lexer": "ipython3",
   "version": "3.7.0"
  }
 },
 "nbformat": 4,
 "nbformat_minor": 1
}
